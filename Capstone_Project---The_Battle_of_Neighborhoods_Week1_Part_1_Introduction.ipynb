{
 "cells": [
  {
   "attachments": {
    "food-cloud.jpg": {
     "image/jpeg": "food-cloud.jpg"
    }
   },
   "cell_type": "markdown",
   "metadata": {},
   "source": [
    "![food-cloud.jpg](attachment:food-cloud.jpg)"
   ]
  },
  {
   "cell_type": "markdown",
   "metadata": {},
   "source": [
    "# <font color=orange>R</font> <font color=orange>e</font> <font color=orange>s</font> <font color=orange>t</font> <font color=orange>r</font>  <font color=green>{</font> <font color=green>o</font> <font color=green>l</font> <font color=green>o</font> <font color=green>g</font>  <font color=green>y</font> <font color=green>}</font>"
   ]
  },
  {
   "cell_type": "markdown",
   "metadata": {},
   "source": [
    "## A Neighborhood Recommender for Upcoming Eateries & Restaurants"
   ]
  },
  {
   "cell_type": "markdown",
   "metadata": {},
   "source": [
    "### Week1 - Part 1: Problem Statement & Background"
   ]
  },
  {
   "cell_type": "markdown",
   "metadata": {},
   "source": [
    "Every business, big or small is a vision backed by hardwork, determination and aspirations. A drive to take an idea from its inception to fruition. Therefore, it becomes all the more neccessary that one's blood and sweat don't go in vain. "
   ]
  },
  {
   "cell_type": "markdown",
   "metadata": {},
   "source": [
    "Presenting, RESTROLOGY: A Neighborhood Recommender for owners of upcoming Eateries & Restaurants. Restrology analyses local geographical data via Foursquare and recommends restaurant/eatry type(cuisines) for upcoming eateries and restaurants based on one's neighborhood preference for a better shot at success. Restrology analyses all the eateries and restaurants in every neighborhood of a city and then creates a list of top 10 spots (Restaurant/Eatry type) in every neighborhood displayed in percentages of the total restaurants in that praticular neighborhood.\n",
    "A prospective business owner can use Restrology to see which cuisine based restaurants are lacking or what type of Restaurants are doing well(due to theirr high number) in which neighnorhoods. He can then make an informed decision and fill the void and have a better chance of establishing a successful business. __Restrology is like Astrology for Restaurants.__"
   ]
  },
  {
   "cell_type": "markdown",
   "metadata": {},
   "source": [
    "For example, suppose Mike who is really passionate about food  and different cuisines wants to invest his savings in the restaurants business in New York. Since he wants to make sure a steady Return on his Investment, he uses Restrology to analyze the restaurant data of the New York city. He can get the desired data per every neighborhood for the entire city and see which cuisine based restaurants are the least in nuber per neighborhood or he can simply see the same list for his choice of neighborhood. Suppose he is leaning towards opening a restaurant in the 'Midtown'area, he then uses Restrology to see which type of restaurants are prvelant in that particular area and in the adjoining neighborhoods. He observes that among all other cuisines, the area of his choice is lacking 'Steak House' and a 'Sushi' joint or may be he see high concentration of Pizza places due to the neighborhoods proximity to University/Shopping District. Restrology helps individuals like Mike make an informed decision and boost their chance of success."
   ]
  },
  {
   "cell_type": "code",
   "execution_count": null,
   "metadata": {},
   "outputs": [],
   "source": []
  }
 ],
 "metadata": {
  "kernelspec": {
   "display_name": "Python 3",
   "language": "python",
   "name": "python3"
  },
  "language_info": {
   "codemirror_mode": {
    "name": "ipython",
    "version": 3
   },
   "file_extension": ".py",
   "mimetype": "text/x-python",
   "name": "python",
   "nbconvert_exporter": "python",
   "pygments_lexer": "ipython3",
   "version": "3.7.1"
  }
 },
 "nbformat": 4,
 "nbformat_minor": 2
}
